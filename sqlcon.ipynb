{
 "cells": [
  {
   "cell_type": "code",
   "execution_count": 1,
   "metadata": {},
   "outputs": [],
   "source": [
    "import pandas as pd\n",
    "import mysql.connector\n",
    "import numpy as np"
   ]
  },
  {
   "cell_type": "code",
   "execution_count": 2,
   "metadata": {},
   "outputs": [
    {
     "data": {
      "text/html": [
       "<div>\n",
       "<style scoped>\n",
       "    .dataframe tbody tr th:only-of-type {\n",
       "        vertical-align: middle;\n",
       "    }\n",
       "\n",
       "    .dataframe tbody tr th {\n",
       "        vertical-align: top;\n",
       "    }\n",
       "\n",
       "    .dataframe thead th {\n",
       "        text-align: right;\n",
       "    }\n",
       "</style>\n",
       "<table border=\"1\" class=\"dataframe\">\n",
       "  <thead>\n",
       "    <tr style=\"text-align: right;\">\n",
       "      <th></th>\n",
       "      <th>Bus_name</th>\n",
       "      <th>Bus_type</th>\n",
       "      <th>Start_time</th>\n",
       "      <th>End_time</th>\n",
       "      <th>Total_Duration</th>\n",
       "      <th>Price</th>\n",
       "      <th>Seats_Available</th>\n",
       "      <th>Ratings</th>\n",
       "      <th>Route_link</th>\n",
       "      <th>Route_name</th>\n",
       "    </tr>\n",
       "  </thead>\n",
       "  <tbody>\n",
       "    <tr>\n",
       "      <th>0</th>\n",
       "      <td>KSRTC (Kerala) - 581</td>\n",
       "      <td>Super Express Non AC Seater Air Bus (2+2)</td>\n",
       "      <td>10:00</td>\n",
       "      <td>18:40</td>\n",
       "      <td>08h 40m</td>\n",
       "      <td>INR 469</td>\n",
       "      <td>6 Seats available</td>\n",
       "      <td>4.3\\n99</td>\n",
       "      <td>https://www.redbus.in/bus-tickets/bangalore-to...</td>\n",
       "      <td>Bangalore to Kozhikode</td>\n",
       "    </tr>\n",
       "    <tr>\n",
       "      <th>1</th>\n",
       "      <td>KSRTC (Kerala) - 52</td>\n",
       "      <td>SWIFT-GARUDA A/C SEATER BUS</td>\n",
       "      <td>12:00</td>\n",
       "      <td>20:20</td>\n",
       "      <td>08h 20m</td>\n",
       "      <td>INR 627</td>\n",
       "      <td>18 Seats available</td>\n",
       "      <td>4.0\\n135</td>\n",
       "      <td>https://www.redbus.in/bus-tickets/bangalore-to...</td>\n",
       "      <td>Bangalore to Kozhikode</td>\n",
       "    </tr>\n",
       "    <tr>\n",
       "      <th>2</th>\n",
       "      <td>KSRTC (Kerala) - 1210</td>\n",
       "      <td>SWIFT-HYBRID NON AC SEATER CUM SLEEPER</td>\n",
       "      <td>12:55</td>\n",
       "      <td>21:05</td>\n",
       "      <td>08h 10m</td>\n",
       "      <td>INR 567</td>\n",
       "      <td>18 Seats available</td>\n",
       "      <td>3.8\\n18</td>\n",
       "      <td>https://www.redbus.in/bus-tickets/bangalore-to...</td>\n",
       "      <td>Bangalore to Kozhikode</td>\n",
       "    </tr>\n",
       "    <tr>\n",
       "      <th>3</th>\n",
       "      <td>KSRTC (Kerala) - 1378</td>\n",
       "      <td>AC MULTI AXLE</td>\n",
       "      <td>13:46</td>\n",
       "      <td>21:25</td>\n",
       "      <td>07h 39m</td>\n",
       "      <td>INR 729</td>\n",
       "      <td>24 Seats available</td>\n",
       "      <td>2.7\\n36</td>\n",
       "      <td>https://www.redbus.in/bus-tickets/bangalore-to...</td>\n",
       "      <td>Bangalore to Kozhikode</td>\n",
       "    </tr>\n",
       "    <tr>\n",
       "      <th>4</th>\n",
       "      <td>KSRTC (Kerala) - 129</td>\n",
       "      <td>SWIFT-GARUDA A/C SEATER BUS</td>\n",
       "      <td>14:15</td>\n",
       "      <td>23:05</td>\n",
       "      <td>08h 50m</td>\n",
       "      <td>INR 627</td>\n",
       "      <td>26 Seats available</td>\n",
       "      <td>4.1\\n97</td>\n",
       "      <td>https://www.redbus.in/bus-tickets/bangalore-to...</td>\n",
       "      <td>Bangalore to Kozhikode</td>\n",
       "    </tr>\n",
       "    <tr>\n",
       "      <th>...</th>\n",
       "      <td>...</td>\n",
       "      <td>...</td>\n",
       "      <td>...</td>\n",
       "      <td>...</td>\n",
       "      <td>...</td>\n",
       "      <td>...</td>\n",
       "      <td>...</td>\n",
       "      <td>...</td>\n",
       "      <td>...</td>\n",
       "      <td>...</td>\n",
       "    </tr>\n",
       "    <tr>\n",
       "      <th>1671</th>\n",
       "      <td>NaN</td>\n",
       "      <td>NaN</td>\n",
       "      <td>NaN</td>\n",
       "      <td>NaN</td>\n",
       "      <td>NaN</td>\n",
       "      <td>NaN</td>\n",
       "      <td>NaN</td>\n",
       "      <td>NaN</td>\n",
       "      <td>https://www.redbus.in/bus-tickets/kolkata-to-h...</td>\n",
       "      <td>Kolkata to Haldia</td>\n",
       "    </tr>\n",
       "    <tr>\n",
       "      <th>1672</th>\n",
       "      <td>NaN</td>\n",
       "      <td>NaN</td>\n",
       "      <td>NaN</td>\n",
       "      <td>NaN</td>\n",
       "      <td>NaN</td>\n",
       "      <td>NaN</td>\n",
       "      <td>NaN</td>\n",
       "      <td>NaN</td>\n",
       "      <td>https://www.redbus.in/bus-tickets/kolkata-to-h...</td>\n",
       "      <td>Kolkata to Haldia</td>\n",
       "    </tr>\n",
       "    <tr>\n",
       "      <th>1673</th>\n",
       "      <td>NaN</td>\n",
       "      <td>NaN</td>\n",
       "      <td>NaN</td>\n",
       "      <td>NaN</td>\n",
       "      <td>NaN</td>\n",
       "      <td>NaN</td>\n",
       "      <td>NaN</td>\n",
       "      <td>NaN</td>\n",
       "      <td>https://www.redbus.in/bus-tickets/kolkata-to-h...</td>\n",
       "      <td>Kolkata to Haldia</td>\n",
       "    </tr>\n",
       "    <tr>\n",
       "      <th>1674</th>\n",
       "      <td>NaN</td>\n",
       "      <td>NaN</td>\n",
       "      <td>NaN</td>\n",
       "      <td>NaN</td>\n",
       "      <td>NaN</td>\n",
       "      <td>NaN</td>\n",
       "      <td>NaN</td>\n",
       "      <td>NaN</td>\n",
       "      <td>https://www.redbus.in/bus-tickets/kolkata-to-h...</td>\n",
       "      <td>Kolkata to Haldia</td>\n",
       "    </tr>\n",
       "    <tr>\n",
       "      <th>1675</th>\n",
       "      <td>NaN</td>\n",
       "      <td>NaN</td>\n",
       "      <td>NaN</td>\n",
       "      <td>NaN</td>\n",
       "      <td>NaN</td>\n",
       "      <td>NaN</td>\n",
       "      <td>NaN</td>\n",
       "      <td>NaN</td>\n",
       "      <td>https://www.redbus.in/bus-tickets/kolkata-to-h...</td>\n",
       "      <td>Kolkata to Haldia</td>\n",
       "    </tr>\n",
       "  </tbody>\n",
       "</table>\n",
       "<p>1676 rows × 10 columns</p>\n",
       "</div>"
      ],
      "text/plain": [
       "                   Bus_name                                   Bus_type  \\\n",
       "0      KSRTC (Kerala) - 581  Super Express Non AC Seater Air Bus (2+2)   \n",
       "1       KSRTC (Kerala) - 52                SWIFT-GARUDA A/C SEATER BUS   \n",
       "2     KSRTC (Kerala) - 1210     SWIFT-HYBRID NON AC SEATER CUM SLEEPER   \n",
       "3     KSRTC (Kerala) - 1378                              AC MULTI AXLE   \n",
       "4      KSRTC (Kerala) - 129                SWIFT-GARUDA A/C SEATER BUS   \n",
       "...                     ...                                        ...   \n",
       "1671                    NaN                                        NaN   \n",
       "1672                    NaN                                        NaN   \n",
       "1673                    NaN                                        NaN   \n",
       "1674                    NaN                                        NaN   \n",
       "1675                    NaN                                        NaN   \n",
       "\n",
       "     Start_time End_time Total_Duration    Price     Seats_Available  \\\n",
       "0         10:00    18:40        08h 40m  INR 469   6 Seats available   \n",
       "1         12:00    20:20        08h 20m  INR 627  18 Seats available   \n",
       "2         12:55    21:05        08h 10m  INR 567  18 Seats available   \n",
       "3         13:46    21:25        07h 39m  INR 729  24 Seats available   \n",
       "4         14:15    23:05        08h 50m  INR 627  26 Seats available   \n",
       "...         ...      ...            ...      ...                 ...   \n",
       "1671        NaN      NaN            NaN      NaN                 NaN   \n",
       "1672        NaN      NaN            NaN      NaN                 NaN   \n",
       "1673        NaN      NaN            NaN      NaN                 NaN   \n",
       "1674        NaN      NaN            NaN      NaN                 NaN   \n",
       "1675        NaN      NaN            NaN      NaN                 NaN   \n",
       "\n",
       "       Ratings                                         Route_link  \\\n",
       "0      4.3\\n99  https://www.redbus.in/bus-tickets/bangalore-to...   \n",
       "1     4.0\\n135  https://www.redbus.in/bus-tickets/bangalore-to...   \n",
       "2      3.8\\n18  https://www.redbus.in/bus-tickets/bangalore-to...   \n",
       "3      2.7\\n36  https://www.redbus.in/bus-tickets/bangalore-to...   \n",
       "4      4.1\\n97  https://www.redbus.in/bus-tickets/bangalore-to...   \n",
       "...        ...                                                ...   \n",
       "1671       NaN  https://www.redbus.in/bus-tickets/kolkata-to-h...   \n",
       "1672       NaN  https://www.redbus.in/bus-tickets/kolkata-to-h...   \n",
       "1673       NaN  https://www.redbus.in/bus-tickets/kolkata-to-h...   \n",
       "1674       NaN  https://www.redbus.in/bus-tickets/kolkata-to-h...   \n",
       "1675       NaN  https://www.redbus.in/bus-tickets/kolkata-to-h...   \n",
       "\n",
       "                  Route_name  \n",
       "0     Bangalore to Kozhikode  \n",
       "1     Bangalore to Kozhikode  \n",
       "2     Bangalore to Kozhikode  \n",
       "3     Bangalore to Kozhikode  \n",
       "4     Bangalore to Kozhikode  \n",
       "...                      ...  \n",
       "1671       Kolkata to Haldia  \n",
       "1672       Kolkata to Haldia  \n",
       "1673       Kolkata to Haldia  \n",
       "1674       Kolkata to Haldia  \n",
       "1675       Kolkata to Haldia  \n",
       "\n",
       "[1676 rows x 10 columns]"
      ]
     },
     "execution_count": 2,
     "metadata": {},
     "output_type": "execute_result"
    }
   ],
   "source": [
    "df_buses_K=pd.read_csv(r\"D:\\guvi\\redbus project\\busdetails\\df_buses_K.csv\")\n",
    "df_buses_A=pd.read_csv(r\"D:\\guvi\\redbus project\\busdetails\\df_buses_AP.csv\")\n",
    "df_buses_T=pd.read_csv(r\"D:\\guvi\\redbus project\\busdetails\\df_buses_T.csv\")\n",
    "df_buses_KM=pd.read_csv(r\"D:\\guvi\\redbus project\\busdetails\\df_buses_KM.csv\")\n",
    "df_buses_R=pd.read_csv(r\"D:\\guvi\\redbus project\\busdetails\\df_buses_R.csv\")\n",
    "df_buses_SB=pd.read_csv(r\"D:\\guvi\\redbus project\\busdetails\\df_buses_SB.csv\")\n",
    "df_buses_H=pd.read_csv(r\"D:\\guvi\\redbus project\\busdetails\\df_buses_H.csv\")\n",
    "df_buses_A=pd.read_csv(r\"D:\\guvi\\redbus project\\busdetails\\df_buses_A.csv\")\n",
    "df_buses_UP=pd.read_csv(r\"D:\\guvi\\redbus project\\busdetails\\df_buses_UP.csv\")\n",
    "df_buses_WB=pd.read_csv(r\"D:\\guvi\\redbus project\\busdetails\\df_buses_WB.csv\")\n",
    "\n",
    "Final_df=pd.concat([df_buses_K,df_buses_A,df_buses_T,df_buses_KM,df_buses_R,df_buses_SB,df_buses_H,df_buses_A,df_buses_UP,df_buses_WB],ignore_index=True)\n",
    "\n",
    "Final_df"
   ]
  },
  {
   "cell_type": "markdown",
   "metadata": {},
   "source": [
    "Data cleaning"
   ]
  },
  {
   "cell_type": "code",
   "execution_count": 3,
   "metadata": {},
   "outputs": [
    {
     "name": "stdout",
     "output_type": "stream",
     "text": [
      "<class 'pandas.core.frame.DataFrame'>\n",
      "RangeIndex: 1676 entries, 0 to 1675\n",
      "Data columns (total 10 columns):\n",
      " #   Column           Non-Null Count  Dtype \n",
      "---  ------           --------------  ----- \n",
      " 0   Bus_name         1368 non-null   object\n",
      " 1   Bus_type         1346 non-null   object\n",
      " 2   Start_time       1368 non-null   object\n",
      " 3   End_time         1368 non-null   object\n",
      " 4   Total_Duration   1369 non-null   object\n",
      " 5   Price            1374 non-null   object\n",
      " 6   Seats_Available  1367 non-null   object\n",
      " 7   Ratings          1373 non-null   object\n",
      " 8   Route_link       1676 non-null   object\n",
      " 9   Route_name       1676 non-null   object\n",
      "dtypes: object(10)\n",
      "memory usage: 131.1+ KB\n"
     ]
    }
   ],
   "source": [
    "Final_df.info()"
   ]
  },
  {
   "cell_type": "code",
   "execution_count": 4,
   "metadata": {},
   "outputs": [
    {
     "data": {
      "text/plain": [
       "0       469.0\n",
       "1       627.0\n",
       "2       567.0\n",
       "3       729.0\n",
       "4       627.0\n",
       "        ...  \n",
       "1671      0.0\n",
       "1672      0.0\n",
       "1673      0.0\n",
       "1674      0.0\n",
       "1675      0.0\n",
       "Name: Price, Length: 1676, dtype: float64"
      ]
     },
     "execution_count": 4,
     "metadata": {},
     "output_type": "execute_result"
    }
   ],
   "source": [
    "#convert prices to numeric\n",
    "\n",
    "Final_df[\"Price\"]=Final_df[\"Price\"].str.replace(\"INR\",\"\")\n",
    "Final_df[\"Price\"]=Final_df[\"Price\"].astype(float)\n",
    "Final_df[\"Price\"].fillna(0)"
   ]
  },
  {
   "cell_type": "code",
   "execution_count": 5,
   "metadata": {},
   "outputs": [
    {
     "name": "stderr",
     "output_type": "stream",
     "text": [
      "C:\\Users\\vicky\\AppData\\Local\\Temp\\ipykernel_22192\\1289175214.py:6: FutureWarning: A value is trying to be set on a copy of a DataFrame or Series through chained assignment using an inplace method.\n",
      "The behavior will change in pandas 3.0. This inplace method will never work because the intermediate object on which we are setting values always behaves as a copy.\n",
      "\n",
      "For example, when doing 'df[col].method(value, inplace=True)', try using 'df.method({col: value}, inplace=True)' or df[col] = df[col].method(value) instead, to perform the operation inplace on the original object.\n",
      "\n",
      "\n",
      "  Final_df['Ratings'].fillna(0, inplace=True)\n"
     ]
    }
   ],
   "source": [
    "Final_df['Ratings'] = Final_df['Ratings'].astype(str)\n",
    "Final_df['Ratings'] = Final_df['Ratings'].str.replace(\"New\", \"\")\n",
    "Final_df['Ratings'] = Final_df['Ratings'].str.strip()\n",
    "Final_df['Ratings'] = Final_df['Ratings'].str.split().str[0]\n",
    "Final_df['Ratings'] = pd.to_numeric(Final_df['Ratings'], errors='coerce')\n",
    "Final_df['Ratings'].fillna(0, inplace=True)"
   ]
  },
  {
   "cell_type": "code",
   "execution_count": 6,
   "metadata": {},
   "outputs": [
    {
     "name": "stdout",
     "output_type": "stream",
     "text": [
      "<class 'pandas.core.frame.DataFrame'>\n",
      "RangeIndex: 1676 entries, 0 to 1675\n",
      "Data columns (total 10 columns):\n",
      " #   Column           Non-Null Count  Dtype  \n",
      "---  ------           --------------  -----  \n",
      " 0   Bus_name         1368 non-null   object \n",
      " 1   Bus_type         1346 non-null   object \n",
      " 2   Start_time       1368 non-null   object \n",
      " 3   End_time         1368 non-null   object \n",
      " 4   Total_Duration   1369 non-null   object \n",
      " 5   Price            1374 non-null   float64\n",
      " 6   Seats_Available  1367 non-null   object \n",
      " 7   Ratings          1676 non-null   float64\n",
      " 8   Route_link       1676 non-null   object \n",
      " 9   Route_name       1676 non-null   object \n",
      "dtypes: float64(2), object(8)\n",
      "memory usage: 131.1+ KB\n"
     ]
    }
   ],
   "source": [
    "#info after datatype change\n",
    "Final_df.info()"
   ]
  },
  {
   "cell_type": "code",
   "execution_count": 8,
   "metadata": {},
   "outputs": [],
   "source": [
    "Final_df = Final_df[Final_df[\"Price\"] <= 7000]"
   ]
  },
  {
   "cell_type": "code",
   "execution_count": 9,
   "metadata": {},
   "outputs": [],
   "source": [
    "#replacig the nan value\n",
    "\n",
    "import numpy as np\n",
    "\n",
    "Final_df = Final_df.replace(np.nan, None)"
   ]
  },
  {
   "cell_type": "code",
   "execution_count": 10,
   "metadata": {},
   "outputs": [],
   "source": [
    "#change dataframe to csv\n",
    "path=r\"D:\\guvi\\redbus project\\sqlconn\\Final_df.csv\"\n",
    "Final_df.to_csv(path,index=False)"
   ]
  },
  {
   "cell_type": "code",
   "execution_count": 36,
   "metadata": {},
   "outputs": [
    {
     "name": "stdout",
     "output_type": "stream",
     "text": [
      "Requirement already satisfied: mysql-connector in c:\\users\\vicky\\appdata\\local\\programs\\python\\python311\\lib\\site-packages (2.2.9)\n",
      "Note: you may need to restart the kernel to use updated packages.\n"
     ]
    },
    {
     "name": "stderr",
     "output_type": "stream",
     "text": [
      "\n",
      "[notice] A new release of pip is available: 23.2.1 -> 24.3.1\n",
      "[notice] To update, run: python.exe -m pip install --upgrade pip\n"
     ]
    }
   ],
   "source": [
    "pip install --upgrade mysql-connector"
   ]
  },
  {
   "cell_type": "code",
   "execution_count": 11,
   "metadata": {},
   "outputs": [
    {
     "name": "stdout",
     "output_type": "stream",
     "text": [
      "Data has been successfully written to the SQLite database.\n",
      "<class 'sqlite3.Connection'>\n"
     ]
    }
   ],
   "source": [
    "import pandas as pd\n",
    "import sqlite3\n",
    "\n",
    "# Load the CSV file into a Pandas DataFrame\n",
    "df = pd.read_csv(r\"D:\\guvi\\redbus project\\sqlconn\\Final_df.csv\")\n",
    "\n",
    "# Connect to an SQLite database (or create it if it doesn't exist)\n",
    "conn = sqlite3.connect(r\"D:\\guvi\\redbus project\\sqlconn\\redbus.db\")\n",
    "\n",
    "# Write the DataFrame to a table in the SQLite database\n",
    "df.to_sql(\"Final_df\", conn, if_exists=\"replace\", index=False)\n",
    "\n",
    "print(\"Data has been successfully written to the SQLite database.\")\n",
    "\n",
    "# Verify connection type\n",
    "print(type(conn))  # Output: <class 'sqlite3.Connection'>\n",
    "\n",
    "# Close the connection\n",
    "#conn.close()\n"
   ]
  },
  {
   "cell_type": "code",
   "execution_count": 12,
   "metadata": {},
   "outputs": [
    {
     "data": {
      "text/plain": [
       "sqlite3.Cursor"
      ]
     },
     "execution_count": 12,
     "metadata": {},
     "output_type": "execute_result"
    }
   ],
   "source": [
    "cursor = conn.cursor()\n",
    "\n",
    "\n",
    "type(cursor)"
   ]
  },
  {
   "cell_type": "code",
   "execution_count": 13,
   "metadata": {},
   "outputs": [
    {
     "data": {
      "text/plain": [
       "<sqlite3.Cursor at 0x193861bb640>"
      ]
     },
     "execution_count": 13,
     "metadata": {},
     "output_type": "execute_result"
    }
   ],
   "source": [
    "# Create the table if it doesn't already exist\n",
    "cursor.execute('''\n",
    "CREATE TABLE IF NOT EXISTS bus_details(\n",
    "    ID INT AUTO_INCREMENT PRIMARY KEY,\n",
    "    Bus_name VARCHAR(255) NOT NULL,\n",
    "    Bus_type VARCHAR(255) NOT NULL,\n",
    "    Start_time VARCHAR(255) NOT NULL,\n",
    "    End_time VARCHAR(255) NOT NULL,\n",
    "    Total_duration VARCHAR(255) NOT NULL,\n",
    "    Price FLOAT NOT NULL,\n",
    "    Seats_Available VARCHAR(255) NULL,\n",
    "    Ratings FLOAT NULL,\n",
    "    Route_link VARCHAR(255) NULL,\n",
    "    Route_name VARCHAR(255) NULL\n",
    ")\n",
    "''')"
   ]
  },
  {
   "cell_type": "code",
   "execution_count": 14,
   "metadata": {},
   "outputs": [],
   "source": [
    "# Replacing NaN values with default values for NOT NULL columns\n",
    "Final_df['Bus_name'] = Final_df['Bus_name'].fillna('Unknown Bus Name')\n",
    "Final_df['Bus_type'] = Final_df['Bus_type'].fillna('Unknown Bus Type')\n",
    "Final_df['Start_time'] = Final_df['Start_time'].fillna('00:00')\n",
    "Final_df['End_time'] = Final_df['End_time'].fillna('00:00')\n",
    "Final_df['Total_Duration'] = Final_df['Total_Duration'].fillna('00h 00m')\n",
    "Final_df['Price'] = Final_df['Price'].fillna(0.0)  # Default price to 0.0\n",
    "Final_df['Seats_Available'] = Final_df['Seats_Available'].fillna('Unknown')\n",
    "Final_df['Ratings'] = Final_df['Ratings'].fillna(0.0) \n"
   ]
  },
  {
   "cell_type": "code",
   "execution_count": 55,
   "metadata": {},
   "outputs": [
    {
     "name": "stdout",
     "output_type": "stream",
     "text": [
      "Values inserted successfully\n"
     ]
    }
   ],
   "source": [
    "# SQL INSERT query for SQLite\n",
    "insert_query = '''\n",
    "INSERT INTO bus_details(\n",
    "    Bus_name,\n",
    "    Bus_type,\n",
    "    Start_time,\n",
    "    End_time,\n",
    "    Total_duration,\n",
    "    Price,\n",
    "    Seats_Available,\n",
    "    Ratings,\n",
    "    Route_link,\n",
    "    Route_name\n",
    ") \n",
    "VALUES (?, ?, ?, ?, ?, ?, ?, ?, ?, ?)\n",
    "'''\n",
    "\n",
    "# Convert DataFrame to a list of tuples\n",
    "data = Final_df.values.tolist()\n",
    "\n",
    "# Execute the query with executemany\n",
    "cursor.executemany(insert_query, data)\n",
    "\n",
    "# Commit the transaction\n",
    "conn.commit()\n",
    "print(\"Values inserted successfully\")\n"
   ]
  },
  {
   "cell_type": "code",
   "execution_count": 16,
   "metadata": {},
   "outputs": [],
   "source": [
    "cursor.execute(\"SELECT * FROM bus_details\")\n",
    "\n",
    "results = cursor.fetchall()\n",
    "\n",
    "# Loop through the results and print them\n",
    "for row in results:\n",
    "    print(row)\n"
   ]
  },
  {
   "cell_type": "code",
   "execution_count": null,
   "metadata": {},
   "outputs": [],
   "source": []
  }
 ],
 "metadata": {
  "kernelspec": {
   "display_name": "Python 3",
   "language": "python",
   "name": "python3"
  },
  "language_info": {
   "codemirror_mode": {
    "name": "ipython",
    "version": 3
   },
   "file_extension": ".py",
   "mimetype": "text/x-python",
   "name": "python",
   "nbconvert_exporter": "python",
   "pygments_lexer": "ipython3",
   "version": "3.11.5"
  }
 },
 "nbformat": 4,
 "nbformat_minor": 2
}
